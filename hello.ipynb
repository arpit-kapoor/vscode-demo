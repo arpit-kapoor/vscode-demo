{
 "cells": [
  {
   "cell_type": "markdown",
   "source": [
    "## Say hello to the user"
   ],
   "metadata": {}
  },
  {
   "cell_type": "code",
   "execution_count": 1,
   "source": [
    "def say_hello(name):\n",
    "    print(f\"Hello, {name}!\")"
   ],
   "outputs": [],
   "metadata": {}
  },
  {
   "cell_type": "code",
   "execution_count": 2,
   "source": [
    "name = input(\"What's your name, buddy?\")\n",
    "say_hello(name)"
   ],
   "outputs": [
    {
     "output_type": "stream",
     "name": "stdout",
     "text": [
      "Hello, Arpit!\n"
     ]
    }
   ],
   "metadata": {}
  }
 ],
 "metadata": {
  "orig_nbformat": 4,
  "language_info": {
   "name": "python",
   "version": "3.7.10",
   "mimetype": "text/x-python",
   "codemirror_mode": {
    "name": "ipython",
    "version": 3
   },
   "pygments_lexer": "ipython3",
   "nbconvert_exporter": "python",
   "file_extension": ".py"
  },
  "kernelspec": {
   "name": "python3",
   "display_name": "Python 3.7.10 64-bit ('dev': conda)"
  },
  "interpreter": {
   "hash": "f4aad260ce91ef7d7f465ddefba48923ce20d0f8201367753779adcc3e72e1f2"
  }
 },
 "nbformat": 4,
 "nbformat_minor": 2
}